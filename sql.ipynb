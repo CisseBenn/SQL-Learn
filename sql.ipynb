{
 "cells": [
  {
   "cell_type": "code",
   "execution_count": 1,
   "metadata": {},
   "outputs": [],
   "source": [
    "import pymysql"
   ]
  },
  {
   "cell_type": "code",
   "execution_count": 2,
   "metadata": {},
   "outputs": [],
   "source": [
    "conn = pymysql.connect(\n",
    "    host='localhost',\n",
    "    user='root',\n",
    "    password='@Cisseben01',\n",
    "    database = \"solarsale\"\n",
    ")\n",
    "\n",
    "#Create a cursor that we will use to interact with the database\n",
    "cursor = conn.cursor()"
   ]
  },
  {
   "cell_type": "markdown",
   "metadata": {},
   "source": [
    "Create a database"
   ]
  },
  {
   "cell_type": "code",
   "execution_count": 3,
   "metadata": {},
   "outputs": [
    {
     "data": {
      "text/plain": [
       "1"
      ]
     },
     "execution_count": 3,
     "metadata": {},
     "output_type": "execute_result"
    }
   ],
   "source": [
    "cursor.execute(\"CREATE DATABASE IF NOT EXISTS solarsale\")"
   ]
  },
  {
   "cell_type": "code",
   "execution_count": 4,
   "metadata": {},
   "outputs": [
    {
     "name": "stdout",
     "output_type": "stream",
     "text": [
      "(('information_schema',), ('mysql',), ('performance_schema',), ('solarsale',), ('supermarket',), ('sys',))\n"
     ]
    }
   ],
   "source": [
    "cursor.execute(\"SHOW DATABASES\")\n",
    "databases= cursor.fetchall()\n",
    "print(databases)"
   ]
  },
  {
   "cell_type": "code",
   "execution_count": 5,
   "metadata": {},
   "outputs": [
    {
     "name": "stdout",
     "output_type": "stream",
     "text": [
      "Table created successfully\n"
     ]
    }
   ],
   "source": [
    "cursor.execute(\"\"\"\n",
    "    CREATE TABLE IF NOT EXISTS Customers(\n",
    "               Fullname varchar(50),\n",
    "               Phone int,\n",
    "               Age int,\n",
    "               Town varchar(255)\n",
    "               )\n",
    "\"\"\")\n",
    "print(\"Table created successfully\")"
   ]
  },
  {
   "cell_type": "code",
   "execution_count": 6,
   "metadata": {},
   "outputs": [
    {
     "name": "stdout",
     "output_type": "stream",
     "text": [
      "Single record added successfully\n"
     ]
    }
   ],
   "source": [
    "#Single data\n",
    "customerdata = \"INSERT INTO Customers(Fullname, Phone, Age, Town) VALUES(%s, %s, %s, %s)\"\n",
    "values = (\"David Opiyo\", 265433 , 30, \"Kisumu\")\n",
    "cursor.execute(customerdata, values)\n",
    "\n",
    "#Save changes\n",
    "conn.commit()\n",
    "\n",
    "print(\"Single record added successfully\")"
   ]
  },
  {
   "cell_type": "code",
   "execution_count": 7,
   "metadata": {},
   "outputs": [
    {
     "name": "stdout",
     "output_type": "stream",
     "text": [
      "Multiple records added successfully\n"
     ]
    }
   ],
   "source": [
    "#Multiple data\n",
    "values = [\n",
    "    (\"David Opiyo\", 265433 , 26, \"Kisumu\"),\n",
    "    (\"Jack Opiyo\", 263474 , 37, \"Kisumu\"),\n",
    "    (\"John Doe\", 265474 ,29, \"Kisumu\"),\n",
    "    (\"Mary Khan\", 262827, 30, \"Kisumu\"),\n",
    "    (\"Erick Mosh\", 265433 , 25, \"Kisumu\")\n",
    "    ]\n",
    "cursor.executemany(customerdata, values)\n",
    "\n",
    "#Save changes\n",
    "conn.commit()\n",
    "\n",
    "print(\"Multiple records added successfully\")"
   ]
  },
  {
   "cell_type": "code",
   "execution_count": 8,
   "metadata": {},
   "outputs": [
    {
     "name": "stdout",
     "output_type": "stream",
     "text": [
      "(('David Opiyo', 265433, 30, 'Kisumu'), ('David Opiyo', 265433, 26, 'Kisumu'), ('Jack Opiyo', 263474, 37, 'Kisumu'), ('John Doe', 265474, 29, 'Kisumu'), ('Mary Khan', 262827, 30, 'Kisumu'), ('David Mosh', 265433, 25, 'Kisumu'), ('David Opiyo', 265433, 26, 'Kisumu'), ('Jack Opiyo', 263474, 37, 'Kisumu'), ('John Doe', 265474, 29, 'Kisumu'), ('Mary Khan', 262827, 30, 'Kisumu'), ('David Mosh', 265433, 25, 'Kisumu'), ('David Opiyo', 265433, 30, 'Kisumu'), ('David Opiyo', 265433, 26, 'Kisumu'), ('Jack Opiyo', 263474, 37, 'Kisumu'), ('John Doe', 265474, 29, 'Kisumu'), ('Mary Khan', 262827, 30, 'Kisumu'), ('Erick Mosh', 265433, 25, 'Kisumu'), ('David Opiyo', 265433, 30, 'Kisumu'), ('David Opiyo', 265433, 26, 'Kisumu'), ('Jack Opiyo', 263474, 37, 'Kisumu'), ('John Doe', 265474, 29, 'Kisumu'), ('Mary Khan', 262827, 30, 'Kisumu'), ('Erick Mosh', 265433, 25, 'Kisumu'), ('David Opiyo', 265433, 30, 'Kisumu'), ('David Opiyo', 265433, 26, 'Kisumu'), ('Jack Opiyo', 263474, 37, 'Kisumu'), ('John Doe', 265474, 29, 'Kisumu'), ('Mary Khan', 262827, 30, 'Kisumu'), ('Erick Mosh', 265433, 25, 'Kisumu'), ('David Opiyo', 265433, 30, 'Kisumu'), ('David Opiyo', 265433, 26, 'Kisumu'), ('Jack Opiyo', 263474, 37, 'Kisumu'), ('John Doe', 265474, 29, 'Kisumu'), ('Mary Khan', 262827, 30, 'Kisumu'), ('Erick Mosh', 265433, 25, 'Kisumu'), ('David Opiyo', 265433, 30, 'Kisumu'), ('David Opiyo', 265433, 26, 'Kisumu'), ('Jack Opiyo', 263474, 37, 'Kisumu'), ('John Doe', 265474, 29, 'Kisumu'), ('Mary Khan', 262827, 30, 'Kisumu'), ('Erick Mosh', 265433, 25, 'Kisumu'), ('David Opiyo', 265433, 30, 'Kisumu'), ('David Opiyo', 265433, 26, 'Kisumu'), ('Jack Opiyo', 263474, 37, 'Kisumu'), ('John Doe', 265474, 29, 'Kisumu'), ('Mary Khan', 262827, 30, 'Kisumu'), ('Erick Mosh', 265433, 25, 'Kisumu'), ('David Opiyo', 265433, 30, 'Kisumu'), ('David Opiyo', 265433, 26, 'Kisumu'), ('Jack Opiyo', 263474, 37, 'Kisumu'), ('John Doe', 265474, 29, 'Kisumu'), ('Mary Khan', 262827, 30, 'Kisumu'), ('Erick Mosh', 265433, 25, 'Kisumu'), ('David Opiyo', 265433, 30, 'Kisumu'), ('David Opiyo', 265433, 26, 'Kisumu'), ('Jack Opiyo', 263474, 37, 'Kisumu'), ('John Doe', 265474, 29, 'Kisumu'), ('Mary Khan', 262827, 30, 'Kisumu'), ('Erick Mosh', 265433, 25, 'Kisumu'))\n"
     ]
    },
    {
     "data": {
      "text/plain": [
       "(('David Opiyo', 265433, 30, 'Kisumu'),\n",
       " ('David Opiyo', 265433, 26, 'Kisumu'),\n",
       " ('Jack Opiyo', 263474, 37, 'Kisumu'),\n",
       " ('John Doe', 265474, 29, 'Kisumu'),\n",
       " ('Mary Khan', 262827, 30, 'Kisumu'),\n",
       " ('David Mosh', 265433, 25, 'Kisumu'),\n",
       " ('David Opiyo', 265433, 26, 'Kisumu'),\n",
       " ('Jack Opiyo', 263474, 37, 'Kisumu'),\n",
       " ('John Doe', 265474, 29, 'Kisumu'),\n",
       " ('Mary Khan', 262827, 30, 'Kisumu'),\n",
       " ('David Mosh', 265433, 25, 'Kisumu'),\n",
       " ('David Opiyo', 265433, 30, 'Kisumu'),\n",
       " ('David Opiyo', 265433, 26, 'Kisumu'),\n",
       " ('Jack Opiyo', 263474, 37, 'Kisumu'),\n",
       " ('John Doe', 265474, 29, 'Kisumu'),\n",
       " ('Mary Khan', 262827, 30, 'Kisumu'),\n",
       " ('Erick Mosh', 265433, 25, 'Kisumu'),\n",
       " ('David Opiyo', 265433, 30, 'Kisumu'),\n",
       " ('David Opiyo', 265433, 26, 'Kisumu'),\n",
       " ('Jack Opiyo', 263474, 37, 'Kisumu'),\n",
       " ('John Doe', 265474, 29, 'Kisumu'),\n",
       " ('Mary Khan', 262827, 30, 'Kisumu'),\n",
       " ('Erick Mosh', 265433, 25, 'Kisumu'),\n",
       " ('David Opiyo', 265433, 30, 'Kisumu'),\n",
       " ('David Opiyo', 265433, 26, 'Kisumu'),\n",
       " ('Jack Opiyo', 263474, 37, 'Kisumu'),\n",
       " ('John Doe', 265474, 29, 'Kisumu'),\n",
       " ('Mary Khan', 262827, 30, 'Kisumu'),\n",
       " ('Erick Mosh', 265433, 25, 'Kisumu'),\n",
       " ('David Opiyo', 265433, 30, 'Kisumu'),\n",
       " ('David Opiyo', 265433, 26, 'Kisumu'),\n",
       " ('Jack Opiyo', 263474, 37, 'Kisumu'),\n",
       " ('John Doe', 265474, 29, 'Kisumu'),\n",
       " ('Mary Khan', 262827, 30, 'Kisumu'),\n",
       " ('Erick Mosh', 265433, 25, 'Kisumu'),\n",
       " ('David Opiyo', 265433, 30, 'Kisumu'),\n",
       " ('David Opiyo', 265433, 26, 'Kisumu'),\n",
       " ('Jack Opiyo', 263474, 37, 'Kisumu'),\n",
       " ('John Doe', 265474, 29, 'Kisumu'),\n",
       " ('Mary Khan', 262827, 30, 'Kisumu'),\n",
       " ('Erick Mosh', 265433, 25, 'Kisumu'),\n",
       " ('David Opiyo', 265433, 30, 'Kisumu'),\n",
       " ('David Opiyo', 265433, 26, 'Kisumu'),\n",
       " ('Jack Opiyo', 263474, 37, 'Kisumu'),\n",
       " ('John Doe', 265474, 29, 'Kisumu'),\n",
       " ('Mary Khan', 262827, 30, 'Kisumu'),\n",
       " ('Erick Mosh', 265433, 25, 'Kisumu'),\n",
       " ('David Opiyo', 265433, 30, 'Kisumu'),\n",
       " ('David Opiyo', 265433, 26, 'Kisumu'),\n",
       " ('Jack Opiyo', 263474, 37, 'Kisumu'),\n",
       " ('John Doe', 265474, 29, 'Kisumu'),\n",
       " ('Mary Khan', 262827, 30, 'Kisumu'),\n",
       " ('Erick Mosh', 265433, 25, 'Kisumu'),\n",
       " ('David Opiyo', 265433, 30, 'Kisumu'),\n",
       " ('David Opiyo', 265433, 26, 'Kisumu'),\n",
       " ('Jack Opiyo', 263474, 37, 'Kisumu'),\n",
       " ('John Doe', 265474, 29, 'Kisumu'),\n",
       " ('Mary Khan', 262827, 30, 'Kisumu'),\n",
       " ('Erick Mosh', 265433, 25, 'Kisumu'))"
      ]
     },
     "execution_count": 8,
     "metadata": {},
     "output_type": "execute_result"
    }
   ],
   "source": [
    "cursor.execute(\"SELECT * FROM Customers\")\n",
    "rows = cursor.fetchall()\n",
    "print(rows)\n",
    "rows"
   ]
  },
  {
   "cell_type": "code",
   "execution_count": 9,
   "metadata": {},
   "outputs": [],
   "source": [
    "#for x in rows:\n",
    "    #print(x)"
   ]
  },
  {
   "cell_type": "code",
   "execution_count": 10,
   "metadata": {},
   "outputs": [
    {
     "name": "stdout",
     "output_type": "stream",
     "text": [
      "SELECT AVG(Age) FROM Customers\n"
     ]
    }
   ],
   "source": [
    "average = \"SELECT AVG(Age) FROM Customers\"\n",
    "cursor.execute(average)\n",
    "\n",
    "conn.commit()\n",
    "print(average)"
   ]
  }
 ],
 "metadata": {
  "kernelspec": {
   "display_name": "Python 3",
   "language": "python",
   "name": "python3"
  },
  "language_info": {
   "codemirror_mode": {
    "name": "ipython",
    "version": 3
   },
   "file_extension": ".py",
   "mimetype": "text/x-python",
   "name": "python",
   "nbconvert_exporter": "python",
   "pygments_lexer": "ipython3",
   "version": "3.11.9"
  }
 },
 "nbformat": 4,
 "nbformat_minor": 2
}
